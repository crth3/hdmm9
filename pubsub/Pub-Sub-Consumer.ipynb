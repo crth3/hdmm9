{
 "cells": [
  {
   "cell_type": "code",
   "execution_count": 1,
   "metadata": {},
   "outputs": [],
   "source": [
    "import os\n",
    "GOOGLE_APPLICATION_CREDENTIALS = \"YOUR JSON\"\n",
    "os.environ[\"GOOGLE_APPLICATION_CREDENTIALS\"] = GOOGLE_APPLICATION_CREDENTIALS"
   ]
  },
  {
   "cell_type": "code",
   "execution_count": 2,
   "metadata": {},
   "outputs": [],
   "source": [
    "f = open(GOOGLE_APPLICATION_CREDENTIALS, \"r\")"
   ]
  },
  {
   "cell_type": "markdown",
   "metadata": {},
   "source": [
    "# Consume messages"
   ]
  },
  {
   "cell_type": "code",
   "execution_count": 4,
   "metadata": {},
   "outputs": [
    {
     "name": "stdout",
     "output_type": "stream",
     "text": [
      "received: Nachricht2\n",
      "received: Hello\n",
      "received: Nachricht2\n",
      "received: Nachricht2\n",
      "received: Nachricht2\n",
      "received: Nachricht2\n",
      "received: Nachricht2\n",
      "received: Nachricht2\n",
      "received: Nachricht2\n",
      "received: Nachricht2\n",
      "received: Nachricht2\n",
      "received: Nachricht2\n",
      "received: hello\n",
      "received: Neue Nachricht\n"
     ]
    }
   ],
   "source": [
    "from google.cloud import pubsub_v1\n",
    "\n",
    "subscriber = pubsub_v1.SubscriberClient()\n",
    "\n",
    "subscription_name = 'projects/m9-oct-2019/subscriptions/my_gcp_sub'  # put your subscription path here\n",
    "\n",
    "\n",
    "def callback(message):\n",
    "    print(\"received: {}\".format(message.data.decode()))\n",
    "    message.ack()\n",
    "\n",
    "future = subscriber.subscribe(subscription_name, callback)"
   ]
  }
 ],
 "metadata": {
  "kernelspec": {
   "display_name": "Python 3 Anaconda",
   "language": "python",
   "name": "python3"
  },
  "language_info": {
   "codemirror_mode": {
    "name": "ipython",
    "version": 3
   },
   "file_extension": ".py",
   "mimetype": "text/x-python",
   "name": "python",
   "nbconvert_exporter": "python",
   "pygments_lexer": "ipython3",
   "version": "3.7.1"
  }
 },
 "nbformat": 4,
 "nbformat_minor": 2
}
