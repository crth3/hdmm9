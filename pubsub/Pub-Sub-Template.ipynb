{
 "cells": [
  {
   "cell_type": "code",
   "execution_count": 1,
   "metadata": {},
   "outputs": [],
   "source": [
    "import os\n",
    "GOOGLE_APPLICATION_CREDENTIALS = \"YOUR JSON\"\n",
    "os.environ[\"GOOGLE_APPLICATION_CREDENTIALS\"] = GOOGLE_APPLICATION_CREDENTIALS"
   ]
  },
  {
   "cell_type": "code",
   "execution_count": 2,
   "metadata": {},
   "outputs": [],
   "source": [
    "f = open(GOOGLE_APPLICATION_CREDENTIALS, \"r\")"
   ]
  },
  {
   "cell_type": "markdown",
   "metadata": {},
   "source": [
    "# Publish messages"
   ]
  },
  {
   "cell_type": "code",
   "execution_count": 3,
   "metadata": {},
   "outputs": [
    {
     "name": "stdout",
     "output_type": "stream",
     "text": [
      "Published b'Hello' of message ID 198157710925209.\n"
     ]
    }
   ],
   "source": [
    "from google.cloud import pubsub_v1\n",
    "\n",
    "project_id = \"project\"\n",
    "topic_name = \"topic\"\n",
    "\n",
    "publisher = pubsub_v1.PublisherClient()\n",
    "topic_path = publisher.topic_path(project_id, topic_name)\n",
    "\n",
    "data = \"Hello\".encode('utf-8')\n",
    "\n",
    "future = publisher.publish(topic_path, data=data)\n",
    "print('Published {} with message ID {}.'.format(data, future.result()))\n",
    "\n"
   ]
  },
  {
   "cell_type": "markdown",
   "metadata": {},
   "source": [
    "# Consume messages"
   ]
  },
  {
   "cell_type": "code",
   "execution_count": 4,
   "metadata": {},
   "outputs": [
    {
     "name": "stdout",
     "output_type": "stream",
     "text": [
      "received: Hello\n"
     ]
    }
   ],
   "source": [
    "subscriber = pubsub_v1.SubscriberClient()\n",
    "\n",
    "topic = 'projects/{}/topics/{}'.format(project_id, topic_name)\n",
    "subscription_name = 'projects/{}/subscriptions/{}'.format(project_id, topic_name)\n",
    "#subscriber.create_subscription(subscription_name, topic)\n",
    "\n",
    "def callback(message):\n",
    "    print(\"received: {}\".format(message.data.decode()))\n",
    "    message.ack()\n",
    "\n",
    "future = subscriber.subscribe(subscription_name, callback)"
   ]
  },
  {
   "cell_type": "code",
   "execution_count": 5,
   "metadata": {},
   "outputs": [
    {
     "name": "stdout",
     "output_type": "stream",
     "text": [
      "received: Hello\n",
      "received: Nachricht aus DataProc\n"
     ]
    }
   ],
   "source": [
    "data = \"Hello\".encode('utf-8')\n",
    "future = publisher.publish(topic_path, data=data)"
   ]
  }
 ],
 "metadata": {
  "kernelspec": {
   "display_name": "Python 3 Anaconda",
   "language": "python",
   "name": "python3"
  },
  "language_info": {
   "codemirror_mode": {
    "name": "ipython",
    "version": 3
   },
   "file_extension": ".py",
   "mimetype": "text/x-python",
   "name": "python",
   "nbconvert_exporter": "python",
   "pygments_lexer": "ipython3",
   "version": "3.7.1"
  }
 },
 "nbformat": 4,
 "nbformat_minor": 2
}
