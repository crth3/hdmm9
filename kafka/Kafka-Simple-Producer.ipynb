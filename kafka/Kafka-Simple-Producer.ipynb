{
 "cells": [
  {
   "cell_type": "code",
   "execution_count": 1,
   "metadata": {},
   "outputs": [],
   "source": [
    "from kafka import KafkaProducer\n",
    "from random import randint\n",
    "import datetime\n",
    "import time\n",
    "import sys"
   ]
  },
  {
   "cell_type": "code",
   "execution_count": 2,
   "metadata": {},
   "outputs": [],
   "source": [
    "KAFKA_URI = \"localhost:9092\"\n",
    "TOPIC = \"hdmm9\"\n",
    "\n",
    "producer = KafkaProducer(bootstrap_servers=KAFKA_URI)"
   ]
  },
  {
   "cell_type": "code",
   "execution_count": 4,
   "metadata": {},
   "outputs": [
    {
     "data": {
      "text/plain": [
       "<kafka.producer.future.FutureRecordMetadata at 0x7f27282ab668>"
      ]
     },
     "execution_count": 4,
     "metadata": {},
     "output_type": "execute_result"
    }
   ],
   "source": [
    "message = \"hello this is me\"\n",
    "producer.send(TOPIC, str.encode(message))\n",
    "\n",
    "message = \"hello this is me again let us count words\"\n",
    "producer.send(TOPIC, str.encode(message))\n",
    "\n",
    "message = \"counting words is interesting\"\n",
    "producer.send(TOPIC, str.encode(message))\n",
    "\n",
    "message = \"it is basis of our analysis\"\n",
    "producer.send(TOPIC, str.encode(message))\n",
    "    "
   ]
  },
  {
   "cell_type": "code",
   "execution_count": null,
   "metadata": {},
   "outputs": [],
   "source": []
  }
 ],
 "metadata": {
  "kernelspec": {
   "display_name": "Python 3 Anaconda",
   "language": "python",
   "name": "python3"
  },
  "language_info": {
   "codemirror_mode": {
    "name": "ipython",
    "version": 3
   },
   "file_extension": ".py",
   "mimetype": "text/x-python",
   "name": "python",
   "nbconvert_exporter": "python",
   "pygments_lexer": "ipython3",
   "version": "3.7.1"
  }
 },
 "nbformat": 4,
 "nbformat_minor": 2
}
