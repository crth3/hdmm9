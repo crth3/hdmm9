{
 "cells": [
  {
   "cell_type": "code",
   "execution_count": 3,
   "metadata": {},
   "outputs": [],
   "source": [
    "from kafka import KafkaConsumer\n",
    "from random import randint\n",
    "import datetime\n",
    "import time\n",
    "import sys"
   ]
  },
  {
   "cell_type": "code",
   "execution_count": 4,
   "metadata": {},
   "outputs": [],
   "source": [
    "KAFKA_URI = \"localhost:9092\"\n",
    "SENSOR_TEMPERATURE_TOPIC = \"sensor_temperatures\"\n",
    "CONSUMPTION_DELAY_IN_SECONDS = 1\n",
    "\n",
    "consumer = KafkaConsumer(SENSOR_TEMPERATURE_TOPIC, bootstrap_servers=KAFKA_URI, \n",
    "                         #auto_offset_reset='earliest',\n",
    "                         auto_offset_reset='latest',\n",
    "                        )"
   ]
  },
  {
   "cell_type": "code",
   "execution_count": 10,
   "metadata": {},
   "outputs": [
    {
     "name": "stdout",
     "output_type": "stream",
     "text": [
      "writing\n",
      "writing\n",
      "writing\n",
      "writing\n",
      "writing\n",
      "writing\n",
      "writing\n",
      "writing\n",
      "writing\n",
      "writing\n",
      "writing\n",
      "writing\n",
      "writing\n",
      "writing\n",
      "writing\n",
      "writing\n",
      "writing\n",
      "writing\n",
      "writing\n",
      "writing\n",
      "writing\n",
      "writing\n",
      "writing\n",
      "writing\n",
      "writing\n",
      "writing\n",
      "writing\n"
     ]
    },
    {
     "ename": "SystemExit",
     "evalue": "",
     "output_type": "error",
     "traceback": [
      "An exception has occurred, use %tb to see the full traceback.\n",
      "\u001b[0;31mSystemExit\u001b[0m\n"
     ]
    },
    {
     "name": "stderr",
     "output_type": "stream",
     "text": [
      "/opt/anaconda3/lib/python3.7/site-packages/IPython/core/interactiveshell.py:3275: UserWarning: To exit: use 'exit', 'quit', or Ctrl-D.\n",
      "  warn(\"To exit: use 'exit', 'quit', or Ctrl-D.\", stacklevel=1)\n"
     ]
    }
   ],
   "source": [
    "\n",
    "try:\n",
    "    for message in consumer:\n",
    "        print(\"writing\")\n",
    "        f=open(\"sensor_history.txt\", \"a+\")  # append to the file\n",
    "        f.write(str(message.value.decode() + \"\\n\"))\n",
    "        f.close()\n",
    "                \n",
    "except KeyboardInterrupt:\n",
    "    sys.exit()"
   ]
  },
  {
   "cell_type": "code",
   "execution_count": null,
   "metadata": {},
   "outputs": [],
   "source": []
  }
 ],
 "metadata": {
  "kernelspec": {
   "display_name": "Python 3 Anaconda",
   "language": "python",
   "name": "python3"
  },
  "language_info": {
   "codemirror_mode": {
    "name": "ipython",
    "version": 3
   },
   "file_extension": ".py",
   "mimetype": "text/x-python",
   "name": "python",
   "nbconvert_exporter": "python",
   "pygments_lexer": "ipython3",
   "version": "3.7.1"
  }
 },
 "nbformat": 4,
 "nbformat_minor": 2
}
