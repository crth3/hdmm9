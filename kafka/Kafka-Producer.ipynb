{
 "cells": [
  {
   "cell_type": "code",
   "execution_count": 7,
   "metadata": {},
   "outputs": [],
   "source": [
    "from kafka import KafkaProducer\n",
    "from random import randint\n",
    "import datetime\n",
    "import time\n",
    "import sys"
   ]
  },
  {
   "cell_type": "code",
   "execution_count": 8,
   "metadata": {},
   "outputs": [],
   "source": [
    "KAFKA_URI = \"localhost:9092\"\n",
    "SENSOR_TEMPERATURE_TOPIC = \"sensor_temperatures\"\n",
    "PUBLISH_DELAY_IN_SECONDS = 1\n",
    "\n",
    "# sudo kafka-topics.sh --create --zookeeper localhost:2181 --replication-factor 1 --partitions 1 --topic sensor_temperatures\n",
    "producer = KafkaProducer(bootstrap_servers=KAFKA_URI)"
   ]
  },
  {
   "cell_type": "code",
   "execution_count": 9,
   "metadata": {},
   "outputs": [
    {
     "ename": "SystemExit",
     "evalue": "",
     "output_type": "error",
     "traceback": [
      "An exception has occurred, use %tb to see the full traceback.\n",
      "\u001b[0;31mSystemExit\u001b[0m\n"
     ]
    }
   ],
   "source": [
    "try:\n",
    "    while True:\n",
    "        sensor = 'sensor{}'.format(randint(1,10))\n",
    "        temperature = randint(-300,900)/10.0\n",
    "    \n",
    "        message = \"{}: {} - {}\".format(datetime.datetime.utcnow(), sensor, temperature)\n",
    "\n",
    "        producer.send(SENSOR_TEMPERATURE_TOPIC, str.encode(message))\n",
    "\n",
    "        time.sleep(randint(1,4)) \n",
    "    \n",
    "except KeyboardInterrupt:\n",
    "    sys.exit()\n",
    "    \n",
    "    \n",
    "    \n",
    "    "
   ]
  },
  {
   "cell_type": "code",
   "execution_count": null,
   "metadata": {},
   "outputs": [],
   "source": []
  }
 ],
 "metadata": {
  "kernelspec": {
   "display_name": "Python 3 Anaconda",
   "language": "python",
   "name": "python3"
  },
  "language_info": {
   "codemirror_mode": {
    "name": "ipython",
    "version": 3
   },
   "file_extension": ".py",
   "mimetype": "text/x-python",
   "name": "python",
   "nbconvert_exporter": "python",
   "pygments_lexer": "ipython3",
   "version": "3.7.1"
  }
 },
 "nbformat": 4,
 "nbformat_minor": 2
}
