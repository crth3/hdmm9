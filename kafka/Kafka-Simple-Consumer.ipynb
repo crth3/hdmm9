{
 "cells": [
  {
   "cell_type": "code",
   "execution_count": 1,
   "metadata": {},
   "outputs": [],
   "source": [
    "from kafka import KafkaConsumer\n",
    "from random import randint\n",
    "import datetime\n",
    "import time\n",
    "import sys"
   ]
  },
  {
   "cell_type": "code",
   "execution_count": 5,
   "metadata": {},
   "outputs": [],
   "source": [
    "KAFKA_URI = \"localhost:9092\"\n",
    "SENSOR_TEMPERATURE_TOPIC = \"hdmm9\"\n",
    "CONSUMPTION_DELAY_IN_SECONDS = 1\n",
    "\n",
    "consumer = KafkaConsumer(SENSOR_TEMPERATURE_TOPIC, bootstrap_servers=KAFKA_URI, \n",
    "                         #auto_offset_reset='earliest',\n",
    "                         auto_offset_reset='latest',\n",
    "                        )"
   ]
  },
  {
   "cell_type": "code",
   "execution_count": 6,
   "metadata": {},
   "outputs": [
    {
     "name": "stdout",
     "output_type": "stream",
     "text": [
      "b'hello this is me'\n",
      "b'hello this is me again let us count words'\n",
      "b'counting words is interesting'\n",
      "b'it is basis of our analysis'\n",
      "b'hello this is me'\n",
      "b'this is a TEST'\n",
      "b'hello this is me again let us count words'\n",
      "b'counting words is interesting'\n",
      "b'it is basis of our analysis'\n",
      "b'hello this is me'\n",
      "b'hello this is me'\n",
      "b'cpu0 193944 3688 74305 24877245 14010 0 5679 0 0 0'\n",
      "b'cpu0 194165 3688 74331 24877369 14010 0 5680 0 0 0'\n",
      "b'hello this is me again let us count words'\n",
      "b'counting words is interesting'\n",
      "b'it is basis of our analysis'\n",
      "b'---------------'\n",
      "b'cpu0 194420 3688 74358 24877483 14010 0 5680 0 0 0'\n",
      "b'cpu0 194645 3688 74388 24877606 14010 0 5680 0 0 0'\n",
      "b'cpu0 194864 3688 74417 24877730 14010 0 5680 0 0 0'\n",
      "b'cpu0 195087 3688 74442 24877852 14011 0 5682 0 0 0'\n"
     ]
    },
    {
     "ename": "SystemExit",
     "evalue": "",
     "output_type": "error",
     "traceback": [
      "An exception has occurred, use %tb to see the full traceback.\n",
      "\u001b[0;31mSystemExit\u001b[0m\n"
     ]
    }
   ],
   "source": [
    "try:\n",
    "    for message in consumer: # wait for messages\n",
    "        print(message.value)\n",
    "except KeyboardInterrupt:\n",
    "    sys.exit()"
   ]
  },
  {
   "cell_type": "code",
   "execution_count": null,
   "metadata": {},
   "outputs": [],
   "source": []
  }
 ],
 "metadata": {
  "kernelspec": {
   "display_name": "Python 3 Anaconda",
   "language": "python",
   "name": "python3"
  },
  "language_info": {
   "codemirror_mode": {
    "name": "ipython",
    "version": 3
   },
   "file_extension": ".py",
   "mimetype": "text/x-python",
   "name": "python",
   "nbconvert_exporter": "python",
   "pygments_lexer": "ipython3",
   "version": "3.7.1"
  }
 },
 "nbformat": 4,
 "nbformat_minor": 2
}
