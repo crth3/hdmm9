{
 "cells": [
  {
   "cell_type": "markdown",
   "metadata": {},
   "source": [
    "# MongoDB\n",
    "## Install pymongo for MongoDB access"
   ]
  },
  {
   "cell_type": "code",
   "execution_count": 2,
   "metadata": {},
   "outputs": [],
   "source": [
    "#import sys\n",
    "#!{sys.executable} -m pip install pymongo"
   ]
  },
  {
   "cell_type": "markdown",
   "metadata": {},
   "source": [
    "## Establish connection to MongoDB-Cluster"
   ]
  },
  {
   "cell_type": "code",
   "execution_count": 1,
   "metadata": {},
   "outputs": [],
   "source": [
    "from pymongo import MongoClient\n",
    "from pymongo.database import Database\n",
    "\n",
    "connection_string = \"PUT YOUR CONNECTION STRING HERE\"\n",
    "client = MongoClient(connection_string)\n",
    "\n",
    "pubsub_db = Database(client, 'pubsub')  # connect to student database\n",
    "\n"
   ]
  },
  {
   "cell_type": "markdown",
   "metadata": {},
   "source": [
    "# PubSub\n",
    "## Install google-cloud-pubsub package"
   ]
  },
  {
   "cell_type": "code",
   "execution_count": 2,
   "metadata": {},
   "outputs": [],
   "source": [
    "import os\n",
    "GOOGLE_APPLICATION_CREDENTIALS = \"/home/hdmstudent/notebooks/PATH TO CREDENTIALS JSON\"\n",
    "os.environ[\"GOOGLE_APPLICATION_CREDENTIALS\"] = GOOGLE_APPLICATION_CREDENTIALS"
   ]
  },
  {
   "cell_type": "code",
   "execution_count": 3,
   "metadata": {},
   "outputs": [],
   "source": [
    "#!{sys.executable} -m pip install google-cloud-pubsub"
   ]
  },
  {
   "cell_type": "markdown",
   "metadata": {},
   "source": [
    "## Set PubSub parameters"
   ]
  },
  {
   "cell_type": "code",
   "execution_count": 4,
   "metadata": {},
   "outputs": [],
   "source": [
    "from google.cloud import pubsub_v1\n",
    "project_id = \"projectid\"\n",
    "topic_name = \"topic\""
   ]
  },
  {
   "cell_type": "markdown",
   "metadata": {},
   "source": [
    "## Publish a message to a topic\n",
    "### Please note: this works only on the DataProc master (run here requires a json authentication!)"
   ]
  },
  {
   "cell_type": "code",
   "execution_count": 11,
   "metadata": {},
   "outputs": [
    {
     "name": "stdout",
     "output_type": "stream",
     "text": [
      "Published b'Test 1 222222 3' of message ID 198158471033018.\n",
      "received: b'Test 1 222222 3'\n",
      "pushing to MongoDB\n"
     ]
    }
   ],
   "source": [
    "publisher = pubsub_v1.PublisherClient()\n",
    "topic_path = publisher.topic_path(project_id, topic_name)\n",
    "\n",
    "data = \"Test 1 222222 3\".encode('utf-8')\n",
    "\n",
    "future = publisher.publish(topic_path, data=data)\n",
    "print('Published {} of message ID {}.'.format(data, future.result()))"
   ]
  },
  {
   "cell_type": "markdown",
   "metadata": {},
   "source": [
    "## Retrieve a message from a topic"
   ]
  },
  {
   "cell_type": "code",
   "execution_count": 6,
   "metadata": {},
   "outputs": [],
   "source": [
    "subscriber = pubsub_v1.SubscriberClient()\n",
    "\n",
    "topic = 'projects/{}/topics/{}'.format(project_id, topic_name)\n",
    "subscription_name = 'projects/{}/subscriptions/{}'.format(project_id, topic_name)  # assumption: topic=subscription name\n",
    "\n",
    "def callback(message):\n",
    "    print(\"received: {}\".format(message.data))\n",
    "    print(\"pushing to MongoDB\")\n",
    "    mongodb_object = {\"message\" : message.data.split()}\n",
    "    pubsub_db.messages.insert_one(mongodb_object)\n",
    "    message.ack()  # acknowledge receiving of message to pubsub\n",
    "\n",
    "future = subscriber.subscribe(subscription_name, callback)"
   ]
  },
  {
   "cell_type": "markdown",
   "metadata": {},
   "source": [
    "# Read MongoDB"
   ]
  },
  {
   "cell_type": "code",
   "execution_count": 13,
   "metadata": {},
   "outputs": [
    {
     "name": "stdout",
     "output_type": "stream",
     "text": [
      "{'_id': ObjectId('5c5dcf3944e2f3288e9ac720'), 'message': b'Test'}\n",
      "{'_id': ObjectId('5c5dcf3944e2f3288e9ac721'), 'message': b'Test'}\n",
      "{'_id': ObjectId('5c5dcf4344e2f3288e9ac722'), 'message': b'Test'}\n",
      "{'_id': ObjectId('5c5dcfb044e2f32a03b1c2b5'), 'message': [b'Test']}\n",
      "{'_id': ObjectId('5c5dcfba44e2f32a03b1c2b6'), 'message': [b'Test', b'1', b'2', b'3']}\n",
      "{'_id': ObjectId('5c5eedd8f4e83347fa85f741'), 'message': [b'Test', b'1', b'222222', b'3']}\n",
      "{'_id': ObjectId('5c5eede3f4e83347fa85f742'), 'message': [b'Test', b'1', b'222222', b'3']}\n"
     ]
    }
   ],
   "source": [
    "for message in pubsub_db.messages.find():\n",
    "    print(message)"
   ]
  }
 ],
 "metadata": {
  "kernelspec": {
   "display_name": "Python 3 Anaconda",
   "language": "python",
   "name": "python3"
  },
  "language_info": {
   "codemirror_mode": {
    "name": "ipython",
    "version": 3
   },
   "file_extension": ".py",
   "mimetype": "text/x-python",
   "name": "python",
   "nbconvert_exporter": "python",
   "pygments_lexer": "ipython3",
   "version": "3.7.1"
  }
 },
 "nbformat": 4,
 "nbformat_minor": 2
}
